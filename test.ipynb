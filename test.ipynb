{
 "cells": [
  {
   "cell_type": "code",
   "execution_count": 2,
   "id": "initial_id",
   "metadata": {
    "ExecuteTime": {
     "end_time": "2024-09-21T07:03:46.315943200Z",
     "start_time": "2024-09-21T07:03:46.310644900Z"
    },
    "collapsed": true
   },
   "outputs": [],
   "source": [
    "import torch\n",
    "import numpy as np\n",
    "import matplotlib as plt\n",
    "import d2l"
   ]
  },
  {
   "cell_type": "code",
   "execution_count": 4,
   "id": "a2cceb3a87c43f38",
   "metadata": {
    "ExecuteTime": {
     "end_time": "2024-09-21T07:08:00.398767800Z",
     "start_time": "2024-09-21T07:08:00.392492600Z"
    },
    "collapsed": false
   },
   "outputs": [
    {
     "data": {
      "text/plain": [
       "1"
      ]
     },
     "execution_count": 4,
     "metadata": {},
     "output_type": "execute_result"
    }
   ],
   "source": [
    "A = np.array([1,2,3,4])\n",
    "np.ndim(A)"
   ]
  },
  {
   "cell_type": "code",
   "execution_count": null,
   "id": "4ab31b13e92b96e7",
   "metadata": {
    "collapsed": false
   },
   "outputs": [],
   "source": []
  }
 ],
 "metadata": {
  "kernelspec": {
   "display_name": "d2l",
   "language": "python",
   "name": "python3"
  },
  "language_info": {
   "codemirror_mode": {
    "name": "ipython",
    "version": 3
   },
   "file_extension": ".py",
   "mimetype": "text/x-python",
   "name": "python",
   "nbconvert_exporter": "python",
   "pygments_lexer": "ipython3",
   "version": "3.9.19"
  }
 },
 "nbformat": 4,
 "nbformat_minor": 5
}
